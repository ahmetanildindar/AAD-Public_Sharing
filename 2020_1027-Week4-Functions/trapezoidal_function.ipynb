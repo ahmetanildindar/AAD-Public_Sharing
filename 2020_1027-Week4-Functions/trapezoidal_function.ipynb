{
 "cells": [
  {
   "cell_type": "markdown",
   "metadata": {},
   "source": [
    "# CE311 Week 4 Functions"
   ]
  },
  {
   "cell_type": "markdown",
   "metadata": {},
   "source": [
    "## Trapezoidal Loading on Simple Beam\n",
    "\n",
    "<img src=\"2020_1027-CE311-Ex1.png\" width=\"100%\">"
   ]
  },
  {
   "cell_type": "code",
   "execution_count": 23,
   "metadata": {},
   "outputs": [],
   "source": [
    "# imports\n",
    "import matplotlib.pyplot as plt\n",
    "import numpy as np"
   ]
  },
  {
   "cell_type": "code",
   "execution_count": 2,
   "metadata": {},
   "outputs": [],
   "source": [
    "# given variables\n",
    "load_first , load_final , length = 10 , 30 , 9 # kN/m , kN/M , m"
   ]
  },
  {
   "cell_type": "code",
   "execution_count": 47,
   "metadata": {},
   "outputs": [],
   "source": [
    "def trap_load(load_first , load_final , length , delta_l = 0.5 ):\n",
    "    # Calculation\n",
    "    #load_values = [ load_first + (load_final - load_first) * x / length for x in range( 0 , length + 1 )]\n",
    "    load_values = []\n",
    "    x_distance = []\n",
    "    # --------------------------------------------------\n",
    "    # your task is to include V(x) and M(x) to the script\n",
    "    # --------------------------------------------------\n",
    "    for x in  np.arange( 0 , length + delta_l  , delta_l ):\n",
    "\n",
    "        temp = load_first + (load_final - load_first) * x / length\n",
    "        \n",
    "        print( f\"at x={x}m distance, q(x) is {round(temp,2) }kN/m\" )        \n",
    "        \n",
    "        load_values.append( temp )\n",
    "        x_distance.append( x )\n",
    "        \n",
    "    # Visualization \n",
    "    plt.plot( x_distance , load_values,\"*-\" )\n",
    "    plt.ylim( bottom = 0  )\n",
    "    plt.xlim( 0  , length)\n",
    "    \n",
    "    return load_values"
   ]
  },
  {
   "cell_type": "code",
   "execution_count": 48,
   "metadata": {},
   "outputs": [
    {
     "name": "stdout",
     "output_type": "stream",
     "text": [
      "at x=0.0m distance, q(x) is 10.0kN/m\n",
      "at x=0.5m distance, q(x) is 11.11kN/m\n",
      "at x=1.0m distance, q(x) is 12.22kN/m\n",
      "at x=1.5m distance, q(x) is 13.33kN/m\n",
      "at x=2.0m distance, q(x) is 14.44kN/m\n",
      "at x=2.5m distance, q(x) is 15.56kN/m\n",
      "at x=3.0m distance, q(x) is 16.67kN/m\n",
      "at x=3.5m distance, q(x) is 17.78kN/m\n",
      "at x=4.0m distance, q(x) is 18.89kN/m\n",
      "at x=4.5m distance, q(x) is 20.0kN/m\n",
      "at x=5.0m distance, q(x) is 21.11kN/m\n",
      "at x=5.5m distance, q(x) is 22.22kN/m\n",
      "at x=6.0m distance, q(x) is 23.33kN/m\n",
      "at x=6.5m distance, q(x) is 24.44kN/m\n",
      "at x=7.0m distance, q(x) is 25.56kN/m\n",
      "at x=7.5m distance, q(x) is 26.67kN/m\n",
      "at x=8.0m distance, q(x) is 27.78kN/m\n",
      "at x=8.5m distance, q(x) is 28.89kN/m\n",
      "at x=9.0m distance, q(x) is 30.0kN/m\n"
     ]
    },
    {
     "data": {
      "image/png": "[encoded data removed]",
      "text/plain": [
       "<Figure size 432x288 with 1 Axes>"
      ]
     },
     "metadata": {
      "needs_background": "light"
     },
     "output_type": "display_data"
    }
   ],
   "source": [
    "q = trap_load(load_first , load_final , length )"
   ]
  },
  {
   "cell_type": "code",
   "execution_count": 49,
   "metadata": {},
   "outputs": [
    {
     "name": "stdout",
     "output_type": "stream",
     "text": [
      "at x=0.0m distance, q(x) is 5.0kN/m\n",
      "at x=0.5m distance, q(x) is 11.43kN/m\n",
      "at x=1.0m distance, q(x) is 17.86kN/m\n",
      "at x=1.5m distance, q(x) is 24.29kN/m\n",
      "at x=2.0m distance, q(x) is 30.71kN/m\n",
      "at x=2.5m distance, q(x) is 37.14kN/m\n",
      "at x=3.0m distance, q(x) is 43.57kN/m\n",
      "at x=3.5m distance, q(x) is 50.0kN/m\n"
     ]
    },
    {
     "data": {
      "image/png": "[encoded data removed]",
      "text/plain": [
       "<Figure size 432x288 with 1 Axes>"
      ]
     },
     "metadata": {
      "needs_background": "light"
     },
     "output_type": "display_data"
    }
   ],
   "source": [
    "q2 = trap_load( 5, 50 , 3.5)"
   ]
  },
  {
   "cell_type": "code",
   "execution_count": null,
   "metadata": {},
   "outputs": [],
   "source": []
  }
 ],
 "metadata": {
  "kernelspec": {
   "display_name": "Python 3",
   "language": "python",
   "name": "python3"
  },
  "language_info": {
   "codemirror_mode": {
    "name": "ipython",
    "version": 3
   },
   "file_extension": ".py",
   "mimetype": "text/x-python",
   "name": "python",
   "nbconvert_exporter": "python",
   "pygments_lexer": "ipython3",
   "version": "3.7.6"
  }
 },
 "nbformat": 4,
 "nbformat_minor": 4
}
