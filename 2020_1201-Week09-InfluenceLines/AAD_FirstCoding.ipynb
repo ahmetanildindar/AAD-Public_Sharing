{
 "cells": [
  {
   "cell_type": "markdown",
   "metadata": {},
   "source": [
    "<img src=\"figure.png\" width=\"80%\">"
   ]
  },
  {
   "cell_type": "code",
   "execution_count": 1,
   "metadata": {},
   "outputs": [],
   "source": [
    "import matplotlib.pyplot as plt"
   ]
  },
  {
   "cell_type": "code",
   "execution_count": 18,
   "metadata": {},
   "outputs": [],
   "source": [
    "def Ay_func(a,b,F) :\n",
    "    \"\"\"\n",
    "    This is the program which draws the influence line for support reaction A\n",
    "    a : Overhang length\n",
    "    b : Span length\n",
    "    F : Force\n",
    "    \"\"\"\n",
    "\n",
    "    x_values = range( 0, a+b +1 )\n",
    "    Ay_list = []\n",
    "    x_list = []\n",
    "    for x in x_values:\n",
    "        Ay = (F * ((a+b)-x) ) / b\n",
    "        print( f\"At {x}m, the reaction is {Ay}kN\")\n",
    "        Ay_list.append( Ay)\n",
    "        x_list.append( x)\n",
    "    plt.figure()\n",
    "    plt.plot( x_list , Ay_list, \"k\", lw= 3)\n",
    "    plt.axhline(0)\n",
    "    plt.axvline(0)"
   ]
  },
  {
   "cell_type": "code",
   "execution_count": 19,
   "metadata": {},
   "outputs": [
    {
     "name": "stdout",
     "output_type": "stream",
     "text": [
      "At 0m, the reaction is -12.5kN\n",
      "At 1m, the reaction is -10.0kN\n",
      "At 2m, the reaction is -7.5kN\n",
      "At 3m, the reaction is -5.0kN\n",
      "At 4m, the reaction is -2.5kN\n",
      "At 5m, the reaction is 0.0kN\n"
     ]
    },
    {
     "data": {
      "image/png": "[encoded data removed]",
      "text/plain": [
       "<Figure size 432x288 with 1 Axes>"
      ]
     },
     "metadata": {
      "needs_background": "light"
     },
     "output_type": "display_data"
    }
   ],
   "source": [
    "Ay_func( 1 , 4 , -10)"
   ]
  },
  {
   "cell_type": "markdown",
   "metadata": {},
   "source": [
    "**Distributed load added**"
   ]
  },
  {
   "cell_type": "code",
   "execution_count": 25,
   "metadata": {},
   "outputs": [],
   "source": [
    "def Ay_func_uniform(a,b,F,q) :\n",
    "    \"\"\"\n",
    "    This is the program which draws the influence line for support reaction A\n",
    "    a : Overhang length\n",
    "    b : Span length\n",
    "    F : Force\n",
    "    q : Uniform loading\n",
    "    \"\"\"\n",
    "\n",
    "    x_values = range( 0, a+b +1 )\n",
    "    Ay_list = []\n",
    "    x_list = []\n",
    "    for x in x_values:\n",
    "        Ay = ( (F * ((a+b)-x)) + (q*(a+b)*0.5*(a+b)) ) / b\n",
    "        print( f\"At {x}m, the reaction is {Ay}kN\")\n",
    "        Ay_list.append( Ay)\n",
    "        x_list.append( x)\n",
    "    plt.figure()\n",
    "    plt.plot( x_list , Ay_list, \"k\", lw= 3)\n",
    "    plt.axhline(0)\n",
    "    plt.axvline(0)"
   ]
  },
  {
   "cell_type": "code",
   "execution_count": 26,
   "metadata": {},
   "outputs": [
    {
     "name": "stdout",
     "output_type": "stream",
     "text": [
      "At 0m, the reaction is 4.6272kN\n",
      "At 1m, the reaction is 3.6272kN\n",
      "At 2m, the reaction is 2.6271999999999998kN\n",
      "At 3m, the reaction is 1.6272kN\n",
      "At 4m, the reaction is 0.6272kN\n"
     ]
    },
    {
     "data": {
      "image/png": "[encoded data removed]",
      "text/plain": [
       "<Figure size 432x288 with 1 Axes>"
      ]
     },
     "metadata": {
      "needs_background": "light"
     },
     "output_type": "display_data"
    }
   ],
   "source": [
    "Ay_func_uniform( 1,3,3,235.2/1000)"
   ]
  },
  {
   "cell_type": "code",
   "execution_count": null,
   "metadata": {},
   "outputs": [],
   "source": []
  }
 ],
 "metadata": {
  "kernelspec": {
   "display_name": "Python 3",
   "language": "python",
   "name": "python3"
  },
  "language_info": {
   "codemirror_mode": {
    "name": "ipython",
    "version": 3
   },
   "file_extension": ".py",
   "mimetype": "text/x-python",
   "name": "python",
   "nbconvert_exporter": "python",
   "pygments_lexer": "ipython3",
   "version": "3.8.5"
  }
 },
 "nbformat": 4,
 "nbformat_minor": 4
}
